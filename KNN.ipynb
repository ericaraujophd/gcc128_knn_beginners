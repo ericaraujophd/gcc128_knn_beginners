{
 "cells": [
  {
   "attachments": {},
   "cell_type": "markdown",
   "metadata": {},
   "source": [
    "# O que é o algoritmo KNN (k-Nearest Neighbor)?\n",
    "\n",
    "O KNN é um algoritmo de aprendizagem supervisionado. Ele utiliza os labels (ou categorias) das classes  presentes nos dados de treinamento durante a **fase de aprendizagem**. É um algoritmo baseado em instâncias, onde novos pontos de dados são classificados baseados nas instâncias armazenados e categorizadas. KNN pode ser utilizado para classificação e regressão. Porém, é mais utilizado para **classificação**.\n",
    "\n",
    "O *k* no KNN é uma variável crucial, também conhecida como hiperparâmetro, e auxilia determinando a acurácia do ponto de dado classificado. Além disso, o *k* é o número de vizinhos mais próximos que se deseja utilizar quando classificando um novo ponto.\n",
    "\n",
    "![bla](./imgs/knn_judment.png)\n",
    "\n",
    "Pode-se observar que enquanto o valor de *k* aumenta de 1 a 7 o limite de decisão entre as duas classes contendo os pontos de dados se torna mais suave.\n",
    "\n",
    "---\n",
    "\n",
    "#### Então, como o algoritmo funciona?\n",
    "\n",
    "* Primeiramente, os dados são carregados e inicializado o valor de *k*,\n",
    "* Então, a distância entre os pontos de dado armazenados e um novo ponto que se deseja classificar é calculado usando diversas similaridades ou métridas de distância, como a distância de Manhattan (L1), distância Euclidiana (L2), similaridade do cosseno, distância de Bhattacharyya, distância de Chebyshev, etc.\n",
    "* A seguir, os valores das distâncias são ordenados em ordem crescente ou decrescente e os k-próximos vizinhos mais perto ou longe são determinados.\n",
    "* A classe dos *k* vizinhos mais próximos são agrupados, e o voto da maioria, ou o voto com peso é usado para classificar o novo ponto de dado. \n",
    "* Finalmente, a classe predita para a nova instância é retornada.\n",
    "\n",
    "A predição pode ser de dois tipos: **classificação**, na qual uma classe atribuída ao novo dado, ou **regressão**, no qual um valor é atribuído ao novo dado. Diferentemente da classificação, na regressão a média de todos os *k* vizinhos mais próximos é atribuído para o novo dado.\n",
    "\n",
    "---\n",
    "\n",
    "#### Desvantagens do KNN\n",
    "\n",
    "Primeiramente, a complexidade na busca pelo vizinho mais próximo para todos os novos dados de entrada. Segundo, a determinação do valor de *k* pode ser tornar uma tarefa entediante. Finalmente, não é completamente claro qual o tipo de métrica de distância que deveria ser utilizada na computação dos vizinhos mais próximos.\n",
    "\n",
    "---\n",
    "\n",
    "Este material é baseado no tutorial encontrado [aqui](https://www.datacamp.com/community/tutorials/introduction-machine-learning-python)."
   ]
  },
  {
   "cell_type": "markdown",
   "metadata": {},
   "source": [
    "## Carregando os dados das Iris\n",
    "\n",
    "A base de dados consiste em 150 amostras com três classes diferentes: **Iris-Setosa**, **Iris-Versicolor** e **Iris-Virginica**. Quatro atributos (features) contribuem para a identificação única de uma das três classes: **sepal-length** (comprimento da sépala), **sepal-width** (largura da sépala), **petal-length** (comprimento da pétala) e **petal-width** (largura da pétala).\n",
    "\n",
    "---\n",
    "\n",
    "**Sklearn** é a biblioteca em python para machine learning utilizado por cientistas de dados. A biblioteca permite o uso de vários algoritmos de classificação, regressão e clustering, incluindo SVM, random forests, gradient boosting, k-means, KNN, etc. Na biblioteca sklearn você encontra outra biblioteca contendo bases dados (datasets), incluindo a base de dados **Iris**."
   ]
  },
  {
   "cell_type": "code",
   "execution_count": 1,
   "metadata": {},
   "outputs": [],
   "source": [
    "from sklearn.datasets import load_iris"
   ]
  },
  {
   "cell_type": "markdown",
   "metadata": {},
   "source": [
    "**load_iris** contém os dados e os rótulos de classificação para cada amostra. Abaixo extraímos a informação dos dados."
   ]
  },
  {
   "cell_type": "code",
   "execution_count": 2,
   "metadata": {},
   "outputs": [],
   "source": [
    "data = load_iris().data"
   ]
  },
  {
   "cell_type": "markdown",
   "metadata": {},
   "source": [
    "A variável **data** é um array numpy de formato (150,4), contendo 150 amostras com 4 diferentes atributos cada. Cada classe contém 50 amostras."
   ]
  },
  {
   "cell_type": "code",
   "execution_count": 3,
   "metadata": {},
   "outputs": [
    {
     "data": {
      "text/plain": [
       "(150, 4)"
      ]
     },
     "execution_count": 3,
     "metadata": {},
     "output_type": "execute_result"
    }
   ],
   "source": [
    "data.shape"
   ]
  },
  {
   "cell_type": "markdown",
   "metadata": {},
   "source": [
    "Agora vamos extrair os rótulos das classes."
   ]
  },
  {
   "cell_type": "code",
   "execution_count": 4,
   "metadata": {},
   "outputs": [],
   "source": [
    "labels = load_iris().target"
   ]
  },
  {
   "cell_type": "code",
   "execution_count": 5,
   "metadata": {},
   "outputs": [
    {
     "data": {
      "text/plain": [
       "(150,)"
      ]
     },
     "execution_count": 5,
     "metadata": {},
     "output_type": "execute_result"
    }
   ],
   "source": [
    "labels.shape"
   ]
  },
  {
   "cell_type": "markdown",
   "metadata": {},
   "source": [
    "A seguir, precisamos combinar os dados e os rótulos das classes. Para isso utilizamos a biblioteca numpy para tratar arrays multidimensionais."
   ]
  },
  {
   "cell_type": "code",
   "execution_count": 6,
   "metadata": {},
   "outputs": [],
   "source": [
    "import numpy as np"
   ]
  },
  {
   "cell_type": "markdown",
   "metadata": {},
   "source": [
    "Como **data** é um array bidimensional, primeiro vamos reajustar o formato de **labels** também para um array 2D."
   ]
  },
  {
   "cell_type": "code",
   "execution_count": 7,
   "metadata": {},
   "outputs": [],
   "source": [
    "labels = np.reshape(labels,(150,1))"
   ]
  },
  {
   "cell_type": "markdown",
   "metadata": {},
   "source": [
    "Agora, faremos a concatenação usando a função **concatenate**. O valor de **axis=-1** indica que a concatenação ocorre na segunda dimensão."
   ]
  },
  {
   "cell_type": "code",
   "execution_count": 8,
   "metadata": {},
   "outputs": [],
   "source": [
    "data = np.concatenate([data,labels],axis=-1)"
   ]
  },
  {
   "cell_type": "code",
   "execution_count": 9,
   "metadata": {},
   "outputs": [
    {
     "data": {
      "text/plain": [
       "(150, 5)"
      ]
     },
     "execution_count": 9,
     "metadata": {},
     "output_type": "execute_result"
    }
   ],
   "source": [
    "data.shape"
   ]
  },
  {
   "cell_type": "markdown",
   "metadata": {},
   "source": [
    "A seguir importaremos a biblioteca **pandas** usada para tabular os dados e computar de forma mais intuitiva."
   ]
  },
  {
   "cell_type": "code",
   "execution_count": 10,
   "metadata": {},
   "outputs": [],
   "source": [
    "import pandas as pd"
   ]
  },
  {
   "cell_type": "code",
   "execution_count": 11,
   "metadata": {},
   "outputs": [],
   "source": [
    "names = ['sepal-length', 'sepal-width', 'petal-length', 'petal-width', 'species']\n",
    "dataset = pd.DataFrame(data,columns=names)"
   ]
  },
  {
   "cell_type": "markdown",
   "metadata": {},
   "source": [
    "O dataframe **dataset** contém todos os dados com os atributos e a classificação que precisamos.\n",
    "\n",
    "Agora iremos converter os valores numéricos dos rótulos para os nomes da flor ou espécie. Para tal, usaremos a coluna das **species** para fazer a substituição."
   ]
  },
  {
   "cell_type": "code",
   "execution_count": 12,
   "metadata": {},
   "outputs": [],
   "source": [
    "dataset['species'].replace(0, 'Iris-setosa',inplace=True)\n",
    "dataset['species'].replace(1, 'Iris-versicolor',inplace=True)\n",
    "dataset['species'].replace(2, 'Iris-virginica',inplace=True)"
   ]
  },
  {
   "cell_type": "code",
   "execution_count": 13,
   "metadata": {},
   "outputs": [
    {
     "data": {
      "text/html": [
       "<div>\n",
       "<style scoped>\n",
       "    .dataframe tbody tr th:only-of-type {\n",
       "        vertical-align: middle;\n",
       "    }\n",
       "\n",
       "    .dataframe tbody tr th {\n",
       "        vertical-align: top;\n",
       "    }\n",
       "\n",
       "    .dataframe thead th {\n",
       "        text-align: right;\n",
       "    }\n",
       "</style>\n",
       "<table border=\"1\" class=\"dataframe\">\n",
       "  <thead>\n",
       "    <tr style=\"text-align: right;\">\n",
       "      <th></th>\n",
       "      <th>sepal-length</th>\n",
       "      <th>sepal-width</th>\n",
       "      <th>petal-length</th>\n",
       "      <th>petal-width</th>\n",
       "      <th>species</th>\n",
       "    </tr>\n",
       "  </thead>\n",
       "  <tbody>\n",
       "    <tr>\n",
       "      <th>0</th>\n",
       "      <td>5.1</td>\n",
       "      <td>3.5</td>\n",
       "      <td>1.4</td>\n",
       "      <td>0.2</td>\n",
       "      <td>Iris-setosa</td>\n",
       "    </tr>\n",
       "    <tr>\n",
       "      <th>1</th>\n",
       "      <td>4.9</td>\n",
       "      <td>3.0</td>\n",
       "      <td>1.4</td>\n",
       "      <td>0.2</td>\n",
       "      <td>Iris-setosa</td>\n",
       "    </tr>\n",
       "    <tr>\n",
       "      <th>2</th>\n",
       "      <td>4.7</td>\n",
       "      <td>3.2</td>\n",
       "      <td>1.3</td>\n",
       "      <td>0.2</td>\n",
       "      <td>Iris-setosa</td>\n",
       "    </tr>\n",
       "    <tr>\n",
       "      <th>3</th>\n",
       "      <td>4.6</td>\n",
       "      <td>3.1</td>\n",
       "      <td>1.5</td>\n",
       "      <td>0.2</td>\n",
       "      <td>Iris-setosa</td>\n",
       "    </tr>\n",
       "    <tr>\n",
       "      <th>4</th>\n",
       "      <td>5.0</td>\n",
       "      <td>3.6</td>\n",
       "      <td>1.4</td>\n",
       "      <td>0.2</td>\n",
       "      <td>Iris-setosa</td>\n",
       "    </tr>\n",
       "  </tbody>\n",
       "</table>\n",
       "</div>"
      ],
      "text/plain": [
       "   sepal-length  sepal-width  petal-length  petal-width      species\n",
       "0           5.1          3.5           1.4          0.2  Iris-setosa\n",
       "1           4.9          3.0           1.4          0.2  Iris-setosa\n",
       "2           4.7          3.2           1.3          0.2  Iris-setosa\n",
       "3           4.6          3.1           1.5          0.2  Iris-setosa\n",
       "4           5.0          3.6           1.4          0.2  Iris-setosa"
      ]
     },
     "execution_count": 13,
     "metadata": {},
     "output_type": "execute_result"
    }
   ],
   "source": [
    "dataset.head()"
   ]
  },
  {
   "cell_type": "markdown",
   "metadata": {},
   "source": [
    "## Análise dos dados\n",
    "\n",
    "Para entender melhor os dados, vamos ver como as flores são no mundo real e quais as diferenças entre as classes.\n",
    "\n",
    "![flores](./imgs/iris-machinelearning.png)\n",
    "\n",
    "Outra forma de visualizar os seus dados é por meio de gráficos de pontos (ou **scatterplot**). Desta forma podemos ver como as variáveis afetam na classificação das flores. \n",
    "\n",
    "Usamos a biblioteca **matplotlib** para esta visualização."
   ]
  },
  {
   "cell_type": "code",
   "execution_count": 14,
   "metadata": {},
   "outputs": [],
   "source": [
    "import matplotlib.pyplot as plt\n",
    "%matplotlib inline"
   ]
  },
  {
   "cell_type": "code",
   "execution_count": 15,
   "metadata": {},
   "outputs": [
    {
     "data": {
      "text/plain": [
       "<matplotlib.legend.Legend at 0x120d682e8>"
      ]
     },
     "execution_count": 15,
     "metadata": {},
     "output_type": "execute_result"
    },
    {
     "data": {
      "image/png": "[encoded data removed]",
      "text/plain": [
       "<Figure size 720x576 with 1 Axes>"
      ]
     },
     "metadata": {
      "needs_background": "light"
     },
     "output_type": "display_data"
    }
   ],
   "source": [
    "plt.figure(4, figsize=(10, 8))\n",
    "\n",
    "plt.scatter(data[:50, 0], data[:50, 1], c='r', label='Iris-setosa')\n",
    "\n",
    "plt.scatter(data[50:100, 0], data[50:100, 1], c='g',label='Iris-versicolor')\n",
    "\n",
    "plt.scatter(data[100:, 0], data[100:, 1], c='b',label='Iris-virginica')\n",
    "\n",
    "plt.xlabel('Sepal length',fontsize=20)\n",
    "plt.ylabel('Sepal width',fontsize=20)\n",
    "plt.xticks(fontsize=20)\n",
    "plt.yticks(fontsize=20)\n",
    "plt.title('Sepal length vs. Sepal width',fontsize=20)\n",
    "plt.legend(prop={'size': 18})"
   ]
  },
  {
   "cell_type": "markdown",
   "metadata": {},
   "source": [
    "Do gráfico acima, é bastante aparente que existe uma correlação alta entre a Iris setosa com a largura e comprimento da sépala. Em contrapartida, existe uma menor correlação entre a Iris versicolor e a Iris virginica. Os pontos destas duas últimas espécies estão mais espalhados do que a setosa.\n",
    "\n",
    "Plotemos também o gráfico para o comprimento e largura da pétala."
   ]
  },
  {
   "cell_type": "code",
   "execution_count": 16,
   "metadata": {},
   "outputs": [
    {
     "data": {
      "text/plain": [
       "<matplotlib.legend.Legend at 0x120ffb978>"
      ]
     },
     "execution_count": 16,
     "metadata": {},
     "output_type": "execute_result"
    },
    {
     "data": {
      "image/png": "[encoded data removed]",
      "text/plain": [
       "<Figure size 576x576 with 1 Axes>"
      ]
     },
     "metadata": {
      "needs_background": "light"
     },
     "output_type": "display_data"
    }
   ],
   "source": [
    "plt.figure(4, figsize=(8, 8))\n",
    "\n",
    "plt.scatter(data[:50, 2], data[:50, 3], c='r', label='Iris-setosa')\n",
    "\n",
    "plt.scatter(data[50:100, 2], data[50:100, 3], c='g',label='Iris-versicolor')\n",
    "\n",
    "plt.scatter(data[100:, 2], data[100:, 3], c='b',label='Iris-virginica')\n",
    "plt.xlabel('Petal length',fontsize=15)\n",
    "plt.ylabel('Petal width',fontsize=15)\n",
    "plt.xticks(fontsize=15)\n",
    "plt.yticks(fontsize=15)\n",
    "plt.title('Petal length vs. Petal width',fontsize=15)\n",
    "plt.legend(prop={'size': 20})"
   ]
  },
  {
   "cell_type": "markdown",
   "metadata": {},
   "source": [
    "Esta seleção de atributos também mostra uma forte clusterização da iris setosa em comparação com as outras duas categorias.\n",
    "\n",
    "Em seguida, calculemos a correlação entre os atributos da pétala."
   ]
  },
  {
   "cell_type": "code",
   "execution_count": 17,
   "metadata": {},
   "outputs": [
    {
     "data": {
      "text/html": [
       "<div>\n",
       "<style scoped>\n",
       "    .dataframe tbody tr th:only-of-type {\n",
       "        vertical-align: middle;\n",
       "    }\n",
       "\n",
       "    .dataframe tbody tr th {\n",
       "        vertical-align: top;\n",
       "    }\n",
       "\n",
       "    .dataframe thead th {\n",
       "        text-align: right;\n",
       "    }\n",
       "</style>\n",
       "<table border=\"1\" class=\"dataframe\">\n",
       "  <thead>\n",
       "    <tr style=\"text-align: right;\">\n",
       "      <th></th>\n",
       "      <th>petal-length</th>\n",
       "      <th>petal-width</th>\n",
       "    </tr>\n",
       "  </thead>\n",
       "  <tbody>\n",
       "    <tr>\n",
       "      <th>petal-length</th>\n",
       "      <td>1.000000</td>\n",
       "      <td>0.962865</td>\n",
       "    </tr>\n",
       "    <tr>\n",
       "      <th>petal-width</th>\n",
       "      <td>0.962865</td>\n",
       "      <td>1.000000</td>\n",
       "    </tr>\n",
       "  </tbody>\n",
       "</table>\n",
       "</div>"
      ],
      "text/plain": [
       "              petal-length  petal-width\n",
       "petal-length      1.000000     0.962865\n",
       "petal-width       0.962865     1.000000"
      ]
     },
     "execution_count": 17,
     "metadata": {},
     "output_type": "execute_result"
    }
   ],
   "source": [
    "dataset.iloc[:,2:].corr()"
   ]
  },
  {
   "cell_type": "markdown",
   "metadata": {},
   "source": [
    "O resultado acima indica uma forte correlação de 0.96 entre o comprimento e a largura da pétala quando todos os dados são combinados.\n",
    "\n",
    "Agora, vamos analisar a correlação entre todas as três espécies em separado."
   ]
  },
  {
   "cell_type": "code",
   "execution_count": 18,
   "metadata": {},
   "outputs": [
    {
     "data": {
      "text/html": [
       "<div>\n",
       "<style scoped>\n",
       "    .dataframe tbody tr th:only-of-type {\n",
       "        vertical-align: middle;\n",
       "    }\n",
       "\n",
       "    .dataframe tbody tr th {\n",
       "        vertical-align: top;\n",
       "    }\n",
       "\n",
       "    .dataframe thead th {\n",
       "        text-align: right;\n",
       "    }\n",
       "</style>\n",
       "<table border=\"1\" class=\"dataframe\">\n",
       "  <thead>\n",
       "    <tr style=\"text-align: right;\">\n",
       "      <th></th>\n",
       "      <th>sepal-length</th>\n",
       "      <th>sepal-width</th>\n",
       "      <th>petal-length</th>\n",
       "      <th>petal-width</th>\n",
       "    </tr>\n",
       "  </thead>\n",
       "  <tbody>\n",
       "    <tr>\n",
       "      <th>sepal-length</th>\n",
       "      <td>1.000000</td>\n",
       "      <td>0.742547</td>\n",
       "      <td>0.267176</td>\n",
       "      <td>0.278098</td>\n",
       "    </tr>\n",
       "    <tr>\n",
       "      <th>sepal-width</th>\n",
       "      <td>0.742547</td>\n",
       "      <td>1.000000</td>\n",
       "      <td>0.177700</td>\n",
       "      <td>0.232752</td>\n",
       "    </tr>\n",
       "    <tr>\n",
       "      <th>petal-length</th>\n",
       "      <td>0.267176</td>\n",
       "      <td>0.177700</td>\n",
       "      <td>1.000000</td>\n",
       "      <td>0.331630</td>\n",
       "    </tr>\n",
       "    <tr>\n",
       "      <th>petal-width</th>\n",
       "      <td>0.278098</td>\n",
       "      <td>0.232752</td>\n",
       "      <td>0.331630</td>\n",
       "      <td>1.000000</td>\n",
       "    </tr>\n",
       "  </tbody>\n",
       "</table>\n",
       "</div>"
      ],
      "text/plain": [
       "              sepal-length  sepal-width  petal-length  petal-width\n",
       "sepal-length      1.000000     0.742547      0.267176     0.278098\n",
       "sepal-width       0.742547     1.000000      0.177700     0.232752\n",
       "petal-length      0.267176     0.177700      1.000000     0.331630\n",
       "petal-width       0.278098     0.232752      0.331630     1.000000"
      ]
     },
     "execution_count": 18,
     "metadata": {},
     "output_type": "execute_result"
    }
   ],
   "source": [
    "# setosa\n",
    "dataset.iloc[:50,:].corr()"
   ]
  },
  {
   "cell_type": "code",
   "execution_count": 19,
   "metadata": {},
   "outputs": [
    {
     "data": {
      "text/html": [
       "<div>\n",
       "<style scoped>\n",
       "    .dataframe tbody tr th:only-of-type {\n",
       "        vertical-align: middle;\n",
       "    }\n",
       "\n",
       "    .dataframe tbody tr th {\n",
       "        vertical-align: top;\n",
       "    }\n",
       "\n",
       "    .dataframe thead th {\n",
       "        text-align: right;\n",
       "    }\n",
       "</style>\n",
       "<table border=\"1\" class=\"dataframe\">\n",
       "  <thead>\n",
       "    <tr style=\"text-align: right;\">\n",
       "      <th></th>\n",
       "      <th>sepal-length</th>\n",
       "      <th>sepal-width</th>\n",
       "      <th>petal-length</th>\n",
       "      <th>petal-width</th>\n",
       "    </tr>\n",
       "  </thead>\n",
       "  <tbody>\n",
       "    <tr>\n",
       "      <th>sepal-length</th>\n",
       "      <td>1.000000</td>\n",
       "      <td>0.525911</td>\n",
       "      <td>0.754049</td>\n",
       "      <td>0.546461</td>\n",
       "    </tr>\n",
       "    <tr>\n",
       "      <th>sepal-width</th>\n",
       "      <td>0.525911</td>\n",
       "      <td>1.000000</td>\n",
       "      <td>0.560522</td>\n",
       "      <td>0.663999</td>\n",
       "    </tr>\n",
       "    <tr>\n",
       "      <th>petal-length</th>\n",
       "      <td>0.754049</td>\n",
       "      <td>0.560522</td>\n",
       "      <td>1.000000</td>\n",
       "      <td>0.786668</td>\n",
       "    </tr>\n",
       "    <tr>\n",
       "      <th>petal-width</th>\n",
       "      <td>0.546461</td>\n",
       "      <td>0.663999</td>\n",
       "      <td>0.786668</td>\n",
       "      <td>1.000000</td>\n",
       "    </tr>\n",
       "  </tbody>\n",
       "</table>\n",
       "</div>"
      ],
      "text/plain": [
       "              sepal-length  sepal-width  petal-length  petal-width\n",
       "sepal-length      1.000000     0.525911      0.754049     0.546461\n",
       "sepal-width       0.525911     1.000000      0.560522     0.663999\n",
       "petal-length      0.754049     0.560522      1.000000     0.786668\n",
       "petal-width       0.546461     0.663999      0.786668     1.000000"
      ]
     },
     "execution_count": 19,
     "metadata": {},
     "output_type": "execute_result"
    }
   ],
   "source": [
    "# versicolor\n",
    "dataset.iloc[50:100,:].corr()"
   ]
  },
  {
   "cell_type": "code",
   "execution_count": 20,
   "metadata": {},
   "outputs": [
    {
     "data": {
      "text/html": [
       "<div>\n",
       "<style scoped>\n",
       "    .dataframe tbody tr th:only-of-type {\n",
       "        vertical-align: middle;\n",
       "    }\n",
       "\n",
       "    .dataframe tbody tr th {\n",
       "        vertical-align: top;\n",
       "    }\n",
       "\n",
       "    .dataframe thead th {\n",
       "        text-align: right;\n",
       "    }\n",
       "</style>\n",
       "<table border=\"1\" class=\"dataframe\">\n",
       "  <thead>\n",
       "    <tr style=\"text-align: right;\">\n",
       "      <th></th>\n",
       "      <th>sepal-length</th>\n",
       "      <th>sepal-width</th>\n",
       "      <th>petal-length</th>\n",
       "      <th>petal-width</th>\n",
       "    </tr>\n",
       "  </thead>\n",
       "  <tbody>\n",
       "    <tr>\n",
       "      <th>sepal-length</th>\n",
       "      <td>1.000000</td>\n",
       "      <td>0.457228</td>\n",
       "      <td>0.864225</td>\n",
       "      <td>0.281108</td>\n",
       "    </tr>\n",
       "    <tr>\n",
       "      <th>sepal-width</th>\n",
       "      <td>0.457228</td>\n",
       "      <td>1.000000</td>\n",
       "      <td>0.401045</td>\n",
       "      <td>0.537728</td>\n",
       "    </tr>\n",
       "    <tr>\n",
       "      <th>petal-length</th>\n",
       "      <td>0.864225</td>\n",
       "      <td>0.401045</td>\n",
       "      <td>1.000000</td>\n",
       "      <td>0.322108</td>\n",
       "    </tr>\n",
       "    <tr>\n",
       "      <th>petal-width</th>\n",
       "      <td>0.281108</td>\n",
       "      <td>0.537728</td>\n",
       "      <td>0.322108</td>\n",
       "      <td>1.000000</td>\n",
       "    </tr>\n",
       "  </tbody>\n",
       "</table>\n",
       "</div>"
      ],
      "text/plain": [
       "              sepal-length  sepal-width  petal-length  petal-width\n",
       "sepal-length      1.000000     0.457228      0.864225     0.281108\n",
       "sepal-width       0.457228     1.000000      0.401045     0.537728\n",
       "petal-length      0.864225     0.401045      1.000000     0.322108\n",
       "petal-width       0.281108     0.537728      0.322108     1.000000"
      ]
     },
     "execution_count": 20,
     "metadata": {},
     "output_type": "execute_result"
    }
   ],
   "source": [
    "# virginica\n",
    "dataset.iloc[100:,:].corr()"
   ]
  },
  {
   "cell_type": "markdown",
   "metadata": {},
   "source": [
    "Dos resultados acima, vemos que a correlação entre **petal-legth** e **petal-width** da setosa e virginica são 0.33 e 0.32 respectivamente. Para a versicolor, a correlação é de 0.78.\n",
    "\n",
    "Agora vamos visualizar a distribuição por meio de histogramas."
   ]
  },
  {
   "cell_type": "code",
   "execution_count": 21,
   "metadata": {},
   "outputs": [
    {
     "name": "stderr",
     "output_type": "stream",
     "text": [
      "/Users/eric/Documents/KNN_Iris/.venv/lib/python3.6/site-packages/IPython/core/interactiveshell.py:3296: UserWarning: To output multiple subplots, the figure containing the passed axes is being cleared\n",
      "  exec(code_obj, self.user_global_ns, self.user_ns)\n"
     ]
    },
    {
     "data": {
      "text/plain": [
       "array([[<matplotlib.axes._subplots.AxesSubplot object at 0x120d689b0>,\n",
       "        <matplotlib.axes._subplots.AxesSubplot object at 0x12125bac8>],\n",
       "       [<matplotlib.axes._subplots.AxesSubplot object at 0x1212980b8>,\n",
       "        <matplotlib.axes._subplots.AxesSubplot object at 0x1212c9668>]],\n",
       "      dtype=object)"
      ]
     },
     "execution_count": 21,
     "metadata": {},
     "output_type": "execute_result"
    },
    {
     "data": {
      "image/png": "[encoded data removed]",
      "text/plain": [
       "<Figure size 864x576 with 4 Axes>"
      ]
     },
     "metadata": {
      "needs_background": "light"
     },
     "output_type": "display_data"
    }
   ],
   "source": [
    "fig = plt.figure(figsize = (12,8))\n",
    "ax = fig.gca()\n",
    "dataset.hist(ax=ax)"
   ]
  },
  {
   "cell_type": "markdown",
   "metadata": {},
   "source": [
    "As variáveis **petal-length**, **petal-width** e **sepal-length** mostram uma distribuição unimodal enquanto **sepal-width** mosta uma distribuição gaussiana. Essas informações são úteis pois podem ajudar na escolha do algoritmo que funcione bem com este tipo de distribuição.\n",
    "\n",
    "A seguir, analisaremos se os quatro atributos estão na mesma escala ou não. Esta é uma parte importante em ML. **pandas** tem uma função chamada **describe** que retorna **count**, **mean**, **max** e **min** de todos os dados da tabela."
   ]
  },
  {
   "cell_type": "code",
   "execution_count": 22,
   "metadata": {},
   "outputs": [
    {
     "data": {
      "text/html": [
       "<div>\n",
       "<style scoped>\n",
       "    .dataframe tbody tr th:only-of-type {\n",
       "        vertical-align: middle;\n",
       "    }\n",
       "\n",
       "    .dataframe tbody tr th {\n",
       "        vertical-align: top;\n",
       "    }\n",
       "\n",
       "    .dataframe thead th {\n",
       "        text-align: right;\n",
       "    }\n",
       "</style>\n",
       "<table border=\"1\" class=\"dataframe\">\n",
       "  <thead>\n",
       "    <tr style=\"text-align: right;\">\n",
       "      <th></th>\n",
       "      <th>sepal-length</th>\n",
       "      <th>sepal-width</th>\n",
       "      <th>petal-length</th>\n",
       "      <th>petal-width</th>\n",
       "    </tr>\n",
       "  </thead>\n",
       "  <tbody>\n",
       "    <tr>\n",
       "      <th>count</th>\n",
       "      <td>150.000000</td>\n",
       "      <td>150.000000</td>\n",
       "      <td>150.000000</td>\n",
       "      <td>150.000000</td>\n",
       "    </tr>\n",
       "    <tr>\n",
       "      <th>mean</th>\n",
       "      <td>5.843333</td>\n",
       "      <td>3.057333</td>\n",
       "      <td>3.758000</td>\n",
       "      <td>1.199333</td>\n",
       "    </tr>\n",
       "    <tr>\n",
       "      <th>std</th>\n",
       "      <td>0.828066</td>\n",
       "      <td>0.435866</td>\n",
       "      <td>1.765298</td>\n",
       "      <td>0.762238</td>\n",
       "    </tr>\n",
       "    <tr>\n",
       "      <th>min</th>\n",
       "      <td>4.300000</td>\n",
       "      <td>2.000000</td>\n",
       "      <td>1.000000</td>\n",
       "      <td>0.100000</td>\n",
       "    </tr>\n",
       "    <tr>\n",
       "      <th>25%</th>\n",
       "      <td>5.100000</td>\n",
       "      <td>2.800000</td>\n",
       "      <td>1.600000</td>\n",
       "      <td>0.300000</td>\n",
       "    </tr>\n",
       "    <tr>\n",
       "      <th>50%</th>\n",
       "      <td>5.800000</td>\n",
       "      <td>3.000000</td>\n",
       "      <td>4.350000</td>\n",
       "      <td>1.300000</td>\n",
       "    </tr>\n",
       "    <tr>\n",
       "      <th>75%</th>\n",
       "      <td>6.400000</td>\n",
       "      <td>3.300000</td>\n",
       "      <td>5.100000</td>\n",
       "      <td>1.800000</td>\n",
       "    </tr>\n",
       "    <tr>\n",
       "      <th>max</th>\n",
       "      <td>7.900000</td>\n",
       "      <td>4.400000</td>\n",
       "      <td>6.900000</td>\n",
       "      <td>2.500000</td>\n",
       "    </tr>\n",
       "  </tbody>\n",
       "</table>\n",
       "</div>"
      ],
      "text/plain": [
       "       sepal-length  sepal-width  petal-length  petal-width\n",
       "count    150.000000   150.000000    150.000000   150.000000\n",
       "mean       5.843333     3.057333      3.758000     1.199333\n",
       "std        0.828066     0.435866      1.765298     0.762238\n",
       "min        4.300000     2.000000      1.000000     0.100000\n",
       "25%        5.100000     2.800000      1.600000     0.300000\n",
       "50%        5.800000     3.000000      4.350000     1.300000\n",
       "75%        6.400000     3.300000      5.100000     1.800000\n",
       "max        7.900000     4.400000      6.900000     2.500000"
      ]
     },
     "execution_count": 22,
     "metadata": {},
     "output_type": "execute_result"
    }
   ],
   "source": [
    "dataset.describe()"
   ]
  },
  {
   "cell_type": "markdown",
   "metadata": {},
   "source": [
    "Os quatro atributos apresentam escala similar, entre 0 e 8, e estão em centímetros caso queira tornar a escala entre 0 e 1.\n",
    "\n",
    "O número de amostras para cada classe é de 50, ou aproximadamente 33,3%."
   ]
  },
  {
   "cell_type": "code",
   "execution_count": 23,
   "metadata": {},
   "outputs": [
    {
     "data": {
      "text/plain": [
       "species\n",
       "Iris-setosa        50\n",
       "Iris-versicolor    50\n",
       "Iris-virginica     50\n",
       "dtype: int64"
      ]
     },
     "execution_count": 23,
     "metadata": {},
     "output_type": "execute_result"
    }
   ],
   "source": [
    "dataset.groupby('species').size()"
   ]
  },
  {
   "cell_type": "markdown",
   "metadata": {},
   "source": [
    "## Pré-processamento dos dados\n",
    "\n",
    "Após carregar os dados e fazer uma extensiva análise, é hora de preparar os dados para alimentar o modelo da ML. Aqui iremos pré-processar os dados de duas formas: normalizando os dados e dividindo os dados em dois conjuntos de treinamento e teste.\n",
    "\n",
    "---\n",
    "\n",
    "#### Normalizando os dados\n",
    "\n",
    "Existem duas formas para normalizar os dados:\n",
    "\n",
    "* Normalização por exemplo, onde cada amostra é normalizada separadamente,\n",
    "* Normalização por atributo, no qual cada atributo é normalizado da mesma forma para todas as amostras.\n",
    "\n",
    "Agora a pergunta é por que ou quando precisamos normalizar nossos dados? E precisamos normalizar o dados da base **Iris**?.\n",
    "\n",
    "A resposta é quase o tempo todo. É uma boa prática normalizar os dados pois assim todas as amostras ficam na mesma escala e limites. Normalizar os dados é importante quando a base não é consistente. Inconsistências podem ser checadas usando a função **describe()**, que nos dá os valores máximo e mínimo. Se esses valores são significantemente diferentes de um atributo para outro, então normalizar para a mesma escala é muito importante.\n",
    "\n",
    "Digamos que X é um atributo com a maior diferença entre min e max, e Y é o segundo atributo com a menor diferença. Então, a influência do atributo Y pode ser suprimido pela influência do atributo X. Neste caso, é importante normalizar ambos atributos.\n",
    "\n",
    "Na base de dados do nosso problema não é necessário normalizar.\n",
    "\n",
    "---\n",
    "\n",
    "### Separando os dados\n",
    "\n",
    "Este é outro aspecto importante de ML uma vez que o objetivo é fazer o modelo capaz de tomar decisões ou classificar dados em um ambiente de testes sem intervenção humana. Assim, antes de lançar o seu modelo no mercado, é necessário ter certeza que o modelo pode generalizar em dados de teste.\n",
    "\n",
    "Para este propósito, é necessário um conjunto de treinamento e um conjunto de testes. Voltando à nossa base de dados **Iris**, temos 150 amostras. Usaremos 80% dos dados para treinamento e os 20% restantes para teste.\n",
    "\n",
    "Quando estiver trabalhando com ciência de dados, ouvirá constantemente o termo **overfitting**, o qual significa que o seu modelo aprendeu os dados de treinamento muito bem, mas falha em acertar com os dados de teste. Desta forma, separando os dados em treinamento e teste ajuda a identificar se o modelo está tendo **overfit** ou não.\n",
    "\n",
    "A biblioteca sklearn tem funções internas para separar os dados. Neste caso usaremos **train_test_split**."
   ]
  },
  {
   "cell_type": "code",
   "execution_count": 24,
   "metadata": {},
   "outputs": [],
   "source": [
    "from sklearn.model_selection import train_test_split"
   ]
  },
  {
   "cell_type": "code",
   "execution_count": 25,
   "metadata": {},
   "outputs": [],
   "source": [
    "train_data, test_data, train_label, test_label = train_test_split(\n",
    "                                                                dataset.iloc[:,:3], \n",
    "                                                                dataset.iloc[:,4], \n",
    "                                                                test_size=0.2, \n",
    "                                                                random_state=42\n",
    "                                                              )"
   ]
  },
  {
   "cell_type": "markdown",
   "metadata": {},
   "source": [
    "Repare que o atributo **random_state** é a semente para a geração aleatória da divisão dos dados. Se mudar o valor desta variável, uma nova seleção dos dados é feita.\n",
    "\n",
    "Vejamos o formato dos resultados obtidos."
   ]
  },
  {
   "cell_type": "code",
   "execution_count": 26,
   "metadata": {},
   "outputs": [
    {
     "data": {
      "text/plain": [
       "((120, 3), (120,), (30, 3), (30,))"
      ]
     },
     "execution_count": 26,
     "metadata": {},
     "output_type": "execute_result"
    }
   ],
   "source": [
    "train_data.shape,train_label.shape,test_data.shape,test_label.shape"
   ]
  },
  {
   "cell_type": "markdown",
   "metadata": {},
   "source": [
    "Agora iremos alimentar nosso algoritmo."
   ]
  },
  {
   "cell_type": "markdown",
   "metadata": {},
   "source": [
    "## O modelo KNN\n",
    "\n",
    "Após carregar, analizar e pré-processar os dados, é hora de alimentar os dados no modelo KNN. Para tal, usaremos as função **neighbors** da biblioteca **sklearn** que tem uma classe chamada **KNeighborsClassifier**."
   ]
  },
  {
   "cell_type": "code",
   "execution_count": 27,
   "metadata": {},
   "outputs": [],
   "source": [
    "from sklearn.neighbors import KNeighborsClassifier"
   ]
  },
  {
   "cell_type": "markdown",
   "metadata": {},
   "source": [
    "*Obs.: o valor k (n_neighbors) é geralmente ímpar para evitar empates nas votações.\n",
    "\n",
    "Para decidir o melhor valor para o parâmetro *k*, é preciso fazer um *grid-search*. O modelo será testado com 10 valores diferentes para *k* e o que der melhor resultado será utilizado.\n",
    "\n",
    "Inicia-se a variável **neighbors(k)** que determina os valores de 1 a 9 e duas matrizes de zeros nomeadas **train_accuracy** e **test_accuracy** para a acurácia do treinamento e teste. Esses vetores serão importantes mais tarde para plotar o gráfico que indicará o melhor valor para **neighbor**."
   ]
  },
  {
   "cell_type": "code",
   "execution_count": 28,
   "metadata": {},
   "outputs": [],
   "source": [
    "neighbors = np.arange(1,9)\n",
    "train_accuracy =np.zeros(len(neighbors))\n",
    "test_accuracy = np.zeros(len(neighbors))"
   ]
  },
  {
   "cell_type": "markdown",
   "metadata": {},
   "source": [
    "A parte a seguir é onde toda a \"mágica\" acontece. Iremos iterar (**enumerate**) sobre os nove valores para vizinhos e para cada um deles iremos prever os dados de treinamento e teste. Ao fim, armazenaremos a acurácia nos vetores **train_accuracy** e **test_accuracy**."
   ]
  },
  {
   "cell_type": "code",
   "execution_count": 29,
   "metadata": {},
   "outputs": [],
   "source": [
    "for i,k in enumerate(neighbors):\n",
    "    knn = KNeighborsClassifier(n_neighbors=k)\n",
    "\n",
    "    #Fit the model\n",
    "    knn.fit(train_data, train_label)\n",
    "\n",
    "    #Compute accuracy on the training set\n",
    "    train_accuracy[i] = knn.score(train_data, train_label)\n",
    "\n",
    "    #Compute accuracy on the test set\n",
    "    test_accuracy[i] = knn.score(test_data, test_label)"
   ]
  },
  {
   "cell_type": "markdown",
   "metadata": {},
   "source": [
    "Plotemos os resultados para decisão de qual o melhor número de vizinhos."
   ]
  },
  {
   "cell_type": "code",
   "execution_count": 30,
   "metadata": {},
   "outputs": [
    {
     "data": {
      "text/plain": [
       "(array([0.88, 0.9 , 0.92, 0.94, 0.96, 0.98, 1.  , 1.02]),\n",
       " <a list of 8 Text yticklabel objects>)"
      ]
     },
     "execution_count": 30,
     "metadata": {},
     "output_type": "execute_result"
    },
    {
     "data": {
      "image/png": "[encoded data removed]",
      "text/plain": [
       "<Figure size 720x432 with 1 Axes>"
      ]
     },
     "metadata": {
      "needs_background": "light"
     },
     "output_type": "display_data"
    }
   ],
   "source": [
    "plt.figure(figsize=(10,6))\n",
    "plt.title('KNN accuracy with varying number of neighbors',fontsize=20)\n",
    "plt.plot(neighbors, test_accuracy, label='Testing Accuracy')\n",
    "plt.plot(neighbors, train_accuracy, label='Training accuracy')\n",
    "plt.legend(prop={'size': 20})\n",
    "plt.xlabel('Number of neighbors',fontsize=20)\n",
    "plt.ylabel('Accuracy',fontsize=20)\n",
    "plt.xticks(fontsize=20)\n",
    "plt.yticks(fontsize=20)"
   ]
  },
  {
   "cell_type": "markdown",
   "metadata": {},
   "source": [
    "Olhando o gráfico, o valor **n_neighbors=3** apresenta os melhores resultados para ambos os conjuntos. Então definimos que 3 é o valor ideal e executemos o treinamento uma vez mais."
   ]
  },
  {
   "cell_type": "code",
   "execution_count": 31,
   "metadata": {},
   "outputs": [],
   "source": [
    "knn = KNeighborsClassifier(n_neighbors=3)\n",
    "\n",
    "#Fit the model\n",
    "knn.fit(train_data, train_label)\n",
    "\n",
    "#Compute accuracy on the training set\n",
    "train_accuracy = knn.score(train_data, train_label)\n",
    "\n",
    "#Compute accuracy on the test set\n",
    "test_accuracy = knn.score(test_data, test_label)"
   ]
  },
  {
   "cell_type": "markdown",
   "metadata": {},
   "source": [
    "## Avaliando o modelo\n",
    "\n",
    "Nesta última parte iremos avaliar o modelo no conjunto de testes usando algumas técnicas como **confusion_matrix** e **classification_report**.\n",
    "\n",
    "Vamos primeiro checar a acurácia do modelo nos dados de teste."
   ]
  },
  {
   "cell_type": "code",
   "execution_count": 32,
   "metadata": {},
   "outputs": [
    {
     "data": {
      "text/plain": [
       "0.9666666666666667"
      ]
     },
     "execution_count": 32,
     "metadata": {},
     "output_type": "execute_result"
    }
   ],
   "source": [
    "test_accuracy"
   ]
  },
  {
   "cell_type": "markdown",
   "metadata": {},
   "source": [
    "O seu modelo consegue prever 96,66% dos dados de teste corretamente.\n",
    "\n",
    "---\n",
    "\n",
    "#### Confusion matrix\n",
    "\n",
    "A matriz de confusão é principalmente utilizada para descrever o desempenho do nosso modelo nos dados de teste para os quais os valores verdadeiros ou rótulos são conhecidos.\n",
    "\n",
    "Existe uma função dentro do **scikit-learn** que provê uma função para calcular a matriz de confusão automaticamente."
   ]
  },
  {
   "cell_type": "code",
   "execution_count": 33,
   "metadata": {},
   "outputs": [],
   "source": [
    "prediction = knn.predict(test_data)"
   ]
  },
  {
   "cell_type": "code",
   "execution_count": 34,
   "metadata": {},
   "outputs": [
    {
     "data": {
      "text/plain": [
       "Text(0.5, 1, 'Confusion Matrix')"
      ]
     },
     "execution_count": 34,
     "metadata": {},
     "output_type": "execute_result"
    },
    {
     "data": {
      "image/png": "[encoded data removed]",
      "text/plain": [
       "<Figure size 720x576 with 2 Axes>"
      ]
     },
     "metadata": {
      "needs_background": "light"
     },
     "output_type": "display_data"
    }
   ],
   "source": [
    "import itertools\n",
    "from sklearn.metrics import confusion_matrix\n",
    "def plot_confusion_matrix(cm, classes,\n",
    "                          normalize=False,\n",
    "                          title='Confusion matrix',\n",
    "                          cmap=plt.cm.Blues):\n",
    "\n",
    "\n",
    "    plt.imshow(cm, interpolation='nearest', cmap=cmap)\n",
    "    plt.title(title)\n",
    "    plt.colorbar()\n",
    "    tick_marks = np.arange(len(classes))\n",
    "    plt.xticks(tick_marks, classes, rotation=45)\n",
    "    plt.yticks(tick_marks, classes)\n",
    "\n",
    "    fmt = '.2f' if normalize else 'd'\n",
    "    thresh = cm.max() / 2.\n",
    "    for i, j in itertools.product(range(cm.shape[0]), range(cm.shape[1])):\n",
    "        plt.text(j, i, format(cm[i, j], fmt),\n",
    "                 horizontalalignment=\"center\",\n",
    "                 color=\"white\" if cm[i, j] > thresh else \"black\")\n",
    "\n",
    "    plt.ylabel('True label',fontsize=30)\n",
    "    plt.xlabel('Predicted label',fontsize=30)\n",
    "    plt.tight_layout()\n",
    "    plt.xticks(fontsize=18)\n",
    "    plt.yticks(fontsize=18)\n",
    "class_names = load_iris().target_names\n",
    "\n",
    "\n",
    "# Compute confusion matrix\n",
    "cnf_matrix = confusion_matrix(test_label, prediction)\n",
    "np.set_printoptions(precision=2)\n",
    "\n",
    "# Plot non-normalized confusion matrix\n",
    "plt.figure(figsize=(10,8))\n",
    "plot_confusion_matrix(cnf_matrix, classes=class_names)\n",
    "plt.title('Confusion Matrix',fontsize=30)"
   ]
  },
  {
   "cell_type": "markdown",
   "metadata": {},
   "source": [
    "Do gráfico acima pode-se ver que todas as flores foram classificadas corretamente, exceto uma virginica que foi classificada como versicolir.\n",
    "\n",
    "#### Classification report\n",
    "\n",
    "O relatório de classificação ajuda na identificação de classes classificadas incorretamente em mais detalhes. Para tal, os valores da precisão, recall e F1 são dados para cada classe."
   ]
  },
  {
   "cell_type": "code",
   "execution_count": 35,
   "metadata": {},
   "outputs": [],
   "source": [
    "from sklearn.metrics import classification_report"
   ]
  },
  {
   "cell_type": "code",
   "execution_count": 36,
   "metadata": {},
   "outputs": [
    {
     "name": "stdout",
     "output_type": "stream",
     "text": [
      "                 precision    recall  f1-score   support\n",
      "\n",
      "    Iris-setosa       1.00      1.00      1.00        10\n",
      "Iris-versicolor       0.90      1.00      0.95         9\n",
      " Iris-virginica       1.00      0.91      0.95        11\n",
      "\n",
      "       accuracy                           0.97        30\n",
      "      macro avg       0.97      0.97      0.97        30\n",
      "   weighted avg       0.97      0.97      0.97        30\n",
      "\n"
     ]
    }
   ],
   "source": [
    "print(classification_report(test_label, prediction))"
   ]
  },
  {
   "cell_type": "code",
   "execution_count": null,
   "metadata": {},
   "outputs": [],
   "source": []
  }
 ],
 "metadata": {
  "kernelspec": {
   "display_name": "Python 3",
   "language": "python",
   "name": "python3"
  },
  "language_info": {
   "codemirror_mode": {
    "name": "ipython",
    "version": 3
   },
   "file_extension": ".py",
   "mimetype": "text/x-python",
   "name": "python",
   "nbconvert_exporter": "python",
   "pygments_lexer": "ipython3",
   "version": "3.6.3"
  }
 },
 "nbformat": 4,
 "nbformat_minor": 2
}
